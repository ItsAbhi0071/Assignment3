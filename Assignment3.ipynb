{
 "cells": [
  {
   "cell_type": "code",
   "execution_count": 1,
   "id": "648bf019-508d-4345-8c06-2581d6f78717",
   "metadata": {},
   "outputs": [
    {
     "name": "stdin",
     "output_type": "stream",
     "text": [
      "Enter the number :  5\n"
     ]
    },
    {
     "data": {
      "text/plain": [
       "120"
      ]
     },
     "execution_count": 1,
     "metadata": {},
     "output_type": "execute_result"
    }
   ],
   "source": [
    "#qus1\n",
    "n=int(input(\"Enter the number : \"))\n",
    "factorial=1\n",
    "for i in range(1,n+1):\n",
    "    factorial=factorial*i\n",
    "factorial"
   ]
  },
  {
   "cell_type": "code",
   "execution_count": 2,
   "id": "d05b6f31-ef23-4c2a-995d-3e2f019f6840",
   "metadata": {},
   "outputs": [
    {
     "name": "stdin",
     "output_type": "stream",
     "text": [
      "Enter the number :  5\n"
     ]
    },
    {
     "data": {
      "text/plain": [
       "120"
      ]
     },
     "execution_count": 2,
     "metadata": {},
     "output_type": "execute_result"
    }
   ],
   "source": [
    "#qus1\n",
    "n=int(input(\"Enter the number : \"))\n",
    "factorial=1\n",
    "i=1\n",
    "while i<=n:\n",
    "    factorial=factorial*i\n",
    "    i+=1\n",
    "factorial"
   ]
  },
  {
   "cell_type": "code",
   "execution_count": 3,
   "id": "caf3f704-53a2-4b41-ba69-6d33c0b0d241",
   "metadata": {},
   "outputs": [
    {
     "data": {
      "text/plain": [
       "(3628800, 55)"
      ]
     },
     "execution_count": 3,
     "metadata": {},
     "output_type": "execute_result"
    }
   ],
   "source": [
    "#qus2\n",
    "product=1\n",
    "sum=0\n",
    "for i in range(1,11):\n",
    "    product=product*i\n",
    "    sum=sum+i\n",
    "product,sum"
   ]
  },
  {
   "cell_type": "code",
   "execution_count": 4,
   "id": "fbde4efe-fa02-4193-bfaa-c0ea7cdac8c8",
   "metadata": {},
   "outputs": [
    {
     "data": {
      "text/plain": [
       "(3628800, 55)"
      ]
     },
     "execution_count": 4,
     "metadata": {},
     "output_type": "execute_result"
    }
   ],
   "source": [
    "#qus2\n",
    "product=1\n",
    "sum=0\n",
    "i=1\n",
    "while i<=10:\n",
    "    product=product*i\n",
    "    sum=sum+i\n",
    "    i+=1\n",
    "product,sum"
   ]
  },
  {
   "cell_type": "code",
   "execution_count": 5,
   "id": "77829039-85d6-4dbe-8ff2-7bd3c5817f4e",
   "metadata": {},
   "outputs": [
    {
     "name": "stdin",
     "output_type": "stream",
     "text": [
      "Enter your unit to calculate the bill :  310\n"
     ]
    },
    {
     "name": "stdout",
     "output_type": "stream",
     "text": [
      "The electricity bill is 2250.0\n"
     ]
    }
   ],
   "source": [
    "#qus3\n",
    "n=int(input(\"Enter your unit to calculate the bill : \"))\n",
    "if n<=100:\n",
    "    print(\"The electricity bill is \",n*4.5)\n",
    "elif n>100 and n<=200:\n",
    "    print(\"The electricity bill is\",100*4.5+(n-100)*6)\n",
    "elif n>200 and n<=300:\n",
    "    print(\"The electricity bill is\",100*4.5+100*6+(n-200)*10)\n",
    "else:\n",
    "    print(\"The electricity bill is\",100*4.5+100*6+100*10+(n-300)*20)"
   ]
  },
  {
   "cell_type": "code",
   "execution_count": 7,
   "id": "dbb0edbc-5a0b-4e9b-9373-caf5544d321a",
   "metadata": {},
   "outputs": [
    {
     "data": {
      "text/plain": [
       "[2,\n",
       " 4,\n",
       " 5,\n",
       " 6,\n",
       " 8,\n",
       " 10,\n",
       " 12,\n",
       " 14,\n",
       " 15,\n",
       " 16,\n",
       " 18,\n",
       " 20,\n",
       " 22,\n",
       " 24,\n",
       " 25,\n",
       " 26,\n",
       " 28,\n",
       " 30,\n",
       " 32,\n",
       " 34,\n",
       " 35,\n",
       " 36,\n",
       " 38,\n",
       " 40,\n",
       " 42,\n",
       " 44,\n",
       " 45,\n",
       " 46,\n",
       " 48,\n",
       " 50,\n",
       " 52,\n",
       " 54,\n",
       " 55,\n",
       " 56,\n",
       " 58,\n",
       " 60,\n",
       " 62,\n",
       " 64,\n",
       " 65,\n",
       " 66,\n",
       " 68,\n",
       " 70,\n",
       " 72,\n",
       " 74,\n",
       " 75,\n",
       " 76,\n",
       " 78,\n",
       " 80,\n",
       " 82,\n",
       " 84,\n",
       " 85,\n",
       " 86,\n",
       " 88,\n",
       " 90,\n",
       " 92,\n",
       " 94,\n",
       " 95,\n",
       " 96,\n",
       " 98,\n",
       " 100]"
      ]
     },
     "execution_count": 7,
     "metadata": {},
     "output_type": "execute_result"
    }
   ],
   "source": [
    "#qus4\n",
    "l=[]\n",
    "for i in range(1,101):\n",
    "    if (i**3)%4==0 or (i**3)%5==0:\n",
    "        l.append(i)\n",
    "l"
   ]
  },
  {
   "cell_type": "code",
   "execution_count": 8,
   "id": "bd3efefb-9715-46d9-8f28-6ed0ddd4884c",
   "metadata": {},
   "outputs": [
    {
     "data": {
      "text/plain": [
       "[2,\n",
       " 4,\n",
       " 5,\n",
       " 6,\n",
       " 8,\n",
       " 10,\n",
       " 12,\n",
       " 14,\n",
       " 15,\n",
       " 16,\n",
       " 18,\n",
       " 20,\n",
       " 22,\n",
       " 24,\n",
       " 25,\n",
       " 26,\n",
       " 28,\n",
       " 30,\n",
       " 32,\n",
       " 34,\n",
       " 35,\n",
       " 36,\n",
       " 38,\n",
       " 40,\n",
       " 42,\n",
       " 44,\n",
       " 45,\n",
       " 46,\n",
       " 48,\n",
       " 50,\n",
       " 52,\n",
       " 54,\n",
       " 55,\n",
       " 56,\n",
       " 58,\n",
       " 60,\n",
       " 62,\n",
       " 64,\n",
       " 65,\n",
       " 66,\n",
       " 68,\n",
       " 70,\n",
       " 72,\n",
       " 74,\n",
       " 75,\n",
       " 76,\n",
       " 78,\n",
       " 80,\n",
       " 82,\n",
       " 84,\n",
       " 85,\n",
       " 86,\n",
       " 88,\n",
       " 90,\n",
       " 92,\n",
       " 94,\n",
       " 95,\n",
       " 96,\n",
       " 98,\n",
       " 100]"
      ]
     },
     "execution_count": 8,
     "metadata": {},
     "output_type": "execute_result"
    }
   ],
   "source": [
    "#qus4\n",
    "l=[]\n",
    "i=1\n",
    "while i<101:\n",
    "    if (i**3)%4==0 or (i**3)%5==0 :\n",
    "        l.append(i)\n",
    "    i+=1\n",
    "l"
   ]
  },
  {
   "cell_type": "code",
   "execution_count": 10,
   "id": "4f1708ec-614a-4854-bb80-e7d0b7c87b8e",
   "metadata": {},
   "outputs": [
    {
     "data": {
      "text/plain": [
       "(4, 3, 2, 0, 0)"
      ]
     },
     "execution_count": 10,
     "metadata": {},
     "output_type": "execute_result"
    }
   ],
   "source": [
    "#qus5\n",
    "s=\"I want to become a data scientint\"\n",
    "def count_vowels(s):\n",
    "    return s.count('a',0,len(s)),s.count('e',0,len(s)),s.count('i',0,len(s)),s.count('0',0,len(s)),s.count('u',0,len(s))\n",
    "count_vowels(s)"
   ]
  },
  {
   "cell_type": "code",
   "execution_count": 11,
   "id": "31b971ae-f603-4785-a40d-69a601f358cc",
   "metadata": {},
   "outputs": [
    {
     "data": {
      "text/plain": [
       "(0, 0, 1, 0, 0)"
      ]
     },
     "execution_count": 11,
     "metadata": {},
     "output_type": "execute_result"
    }
   ],
   "source": [
    "a=\"Pwskills\"\n",
    "count_vowels(a)"
   ]
  },
  {
   "cell_type": "code",
   "execution_count": null,
   "id": "f570daeb-0601-40c3-b2c9-d867e048c4cc",
   "metadata": {},
   "outputs": [],
   "source": []
  }
 ],
 "metadata": {
  "kernelspec": {
   "display_name": "Python 3 (ipykernel)",
   "language": "python",
   "name": "python3"
  },
  "language_info": {
   "codemirror_mode": {
    "name": "ipython",
    "version": 3
   },
   "file_extension": ".py",
   "mimetype": "text/x-python",
   "name": "python",
   "nbconvert_exporter": "python",
   "pygments_lexer": "ipython3",
   "version": "3.10.6"
  }
 },
 "nbformat": 4,
 "nbformat_minor": 5
}
